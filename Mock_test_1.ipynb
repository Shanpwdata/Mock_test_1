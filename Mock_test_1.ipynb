{
 "cells": [
  {
   "cell_type": "markdown",
   "id": "9ee200f6-0fc4-4212-88b4-a42184b4493d",
   "metadata": {},
   "source": [
    "17. Write a function that takes a list of numbers as input and returns a new list containing only the even numbers from the input list. Use list comprehension to solve this problem.\n",
    "\n",
    "Example:\n",
    "\n",
    "Input: [1, 2, 3, 4, 5, 6, 7, 8, 9, 10]\n",
    "\n",
    "Output: [2, 4, 6, 8, 10]"
   ]
  },
  {
   "cell_type": "code",
   "execution_count": 1,
   "id": "132af9dd-9ddc-4fc3-84c4-318e60b3c118",
   "metadata": {},
   "outputs": [],
   "source": [
    "###Ans_.\n",
    "lst = [1, 2, 3, 4, 5, 6, 7, 8, 9, 10]\n",
    "new_lst = [i for i in lst if i %2==0]"
   ]
  },
  {
   "cell_type": "code",
   "execution_count": 2,
   "id": "7f1f633b-46c9-40e4-a053-08e6bc3320f7",
   "metadata": {},
   "outputs": [
    {
     "data": {
      "text/plain": [
       "[2, 4, 6, 8, 10]"
      ]
     },
     "execution_count": 2,
     "metadata": {},
     "output_type": "execute_result"
    }
   ],
   "source": [
    "new_lst"
   ]
  },
  {
   "cell_type": "markdown",
   "id": "72843078-0b74-4fca-ad55-a0b0f58994f5",
   "metadata": {},
   "source": [
    "18. Implement a decorator function called ‘timer’ that measures the execution time of a function. The ‘timer’ decorator should print the time taken by the decorated function to execute. Use the ‘time’ module in Python to calculate the execution time.\n",
    "\n",
    "Example:\n",
    "\n",
    "import time\n",
    "\n",
    "@timer\n",
    "def my_function():\n",
    "    # Function code goes here\n",
    "    time.sleep(2)\n",
    "\n",
    "my_function()\n",
    "\n",
    "Output:\n",
    "\"Execution time: 2.00123 seconds\""
   ]
  },
  {
   "cell_type": "code",
   "execution_count": 3,
   "id": "ea794db2-ac30-4d7a-bb8a-1e5d1dd5f6d3",
   "metadata": {},
   "outputs": [],
   "source": [
    "###Ans_.\n",
    "import time\n",
    "def my_function(func):\n",
    "    def inner_function(*args, **kwargs):\n",
    "        start = time.time()\n",
    "        res = func(*args, **kwargs)\n",
    "        end = time.time()\n",
    "        print(f\"Execution time: {end - start} seconds\")\n",
    "        return res\n",
    "    return inner_function"
   ]
  },
  {
   "cell_type": "code",
   "execution_count": 4,
   "id": "415546c2-572f-4f2c-baca-4115e2ea440b",
   "metadata": {},
   "outputs": [
    {
     "name": "stdout",
     "output_type": "stream",
     "text": [
      "Execution time: 2.002063035964966 seconds\n"
     ]
    }
   ],
   "source": [
    "@my_function\n",
    "def my_function():\n",
    "    time.sleep(2)\n",
    "\n",
    "my_function()"
   ]
  },
  {
   "cell_type": "markdown",
   "id": "25d14527-0459-490f-a3ff-31f48f46c790",
   "metadata": {},
   "source": [
    "19. Write a function called ‘calculate_mean’ that takes a list of numbers as input and returns the mean (average) of the numbers. The function should calculate the mean using the sum of the numbers divided by the total count.\n",
    "\n",
    "Example:\n",
    "\n",
    "def calculate_mean(numbers):\n",
    "    total = sum(numbers)\n",
    "    count = len(numbers)\n",
    "    mean = total / count\n",
    "    return mean\n",
    "\n",
    "data = [10, 15, 20, 25, 30]\n",
    "mean_value = calculate_mean(data)\n",
    "print(\"Mean:\", mean_value)\n",
    "\n",
    "Output:\n",
    "Mean: 20.0"
   ]
  },
  {
   "cell_type": "code",
   "execution_count": 5,
   "id": "f2ace58f-ca3f-4d4e-97d9-7dcc985fbc91",
   "metadata": {},
   "outputs": [],
   "source": [
    "###Ans_.\n",
    "def calculate_mean(num):\n",
    "    total = sum(num)\n",
    "    count = len(num)\n",
    "    mean = total/count\n",
    "    return mean"
   ]
  },
  {
   "cell_type": "code",
   "execution_count": 6,
   "id": "f3c2b76b-d3d5-4111-9f51-1f77e995a7c8",
   "metadata": {},
   "outputs": [
    {
     "name": "stdout",
     "output_type": "stream",
     "text": [
      "Mean : 20.0\n"
     ]
    }
   ],
   "source": [
    "data = [10,15,20,25,30]\n",
    "mean_value = calculate_mean(data)\n",
    "print(\"Mean :\", mean_value)"
   ]
  },
  {
   "cell_type": "markdown",
   "id": "f8732aa4-467b-48bf-96da-dc4bcd3b820e",
   "metadata": {},
   "source": [
    "20. Write a function called ‘perform_hypothesis_test’ that takes two lists of numbers as input, representing two samples. The function should perform a two-sample t-test and return the p-value. Use the ‘scipy.stats’ module in Python to calculate the t-test and p-value.\n",
    "\n",
    "Example:\n",
    "\n",
    "from scipy import stats\n",
    "\n",
    "def perform_hypothesis_test(sample1, sample2):\n",
    "    t_statistic, p_value = stats.ttest_ind(sample1, sample2)\n",
    "    return p_value\n",
    "\n",
    "sample1 = [5, 10, 15, 20, 25]\n",
    "sample2 = [10, 20, 30, 40, 50]\n",
    "p_value = perform_hypothesis_test(sample1, sample2)\n",
    "print(\"P-value:\", p_value)\n",
    "\n",
    "Output:\n",
    "P-value: 0.1064706396450037\n",
    "8 points"
   ]
  },
  {
   "cell_type": "code",
   "execution_count": 7,
   "id": "8cda1195-8ad4-41a4-be34-f7fbc57a0ef6",
   "metadata": {},
   "outputs": [],
   "source": [
    "###Ans_.\n",
    "from scipy import stats\n",
    "\n",
    "def perform_hypothesis_test(sample1, sample2):\n",
    "    t_statistic, p_value = stats.ttest_ind(sample1, sample2)\n",
    "    return p_value"
   ]
  },
  {
   "cell_type": "code",
   "execution_count": 8,
   "id": "7ab4eb2e-4902-48d2-a65a-0cb9740264c6",
   "metadata": {},
   "outputs": [
    {
     "name": "stdout",
     "output_type": "stream",
     "text": [
      "P-value: 0.09434977284243756\n"
     ]
    }
   ],
   "source": [
    "sample1 = [5, 10, 15, 20, 25]\n",
    "sample2 = [10, 20, 30, 40, 50]\n",
    "p_value = perform_hypothesis_test(sample1, sample2)\n",
    "print(\"P-value:\", p_value)"
   ]
  },
  {
   "cell_type": "code",
   "execution_count": null,
   "id": "ef81fbb7-8e95-4375-8e51-bcb910c72496",
   "metadata": {},
   "outputs": [],
   "source": []
  }
 ],
 "metadata": {
  "kernelspec": {
   "display_name": "Python 3 (ipykernel)",
   "language": "python",
   "name": "python3"
  },
  "language_info": {
   "codemirror_mode": {
    "name": "ipython",
    "version": 3
   },
   "file_extension": ".py",
   "mimetype": "text/x-python",
   "name": "python",
   "nbconvert_exporter": "python",
   "pygments_lexer": "ipython3",
   "version": "3.10.8"
  }
 },
 "nbformat": 4,
 "nbformat_minor": 5
}
